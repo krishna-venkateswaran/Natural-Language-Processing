{
  "nbformat": 4,
  "nbformat_minor": 0,
  "metadata": {
    "colab": {
      "name": "word_to_numbers.ipynb",
      "provenance": [],
      "collapsed_sections": []
    },
    "kernelspec": {
      "name": "python3",
      "display_name": "Python 3"
    }
  },
  "cells": [
    {
      "cell_type": "code",
      "metadata": {
        "id": "0U6K9YXc9ETT",
        "colab_type": "code",
        "colab": {}
      },
      "source": [
        "def convert_num(text):\n",
        "  ''' \n",
        "  Input: text\n",
        "  Output: text with numbers converted to digits\n",
        "  '''\n",
        "  '''\n",
        "  The text is processed word by word and then a word is converted to a digit whenever it is seen.\n",
        "  The code also finds errors in the text for example one million one million would through an error \n",
        "  The code also throws an error when decimal is followed by a numbers of the form ten-million as\n",
        "  the normal convension to write a digits after the decimal as one=nine for example zero point three\n",
        "  two instead of zero point thirty two\n",
        "  '''\n",
        "  number_1={\"one\":1,\"two\":2,\"three\":3,\"four\":4,\"five\":5,\"six\":6,\"seven\":7,\"eight\":8,\"nine\":9,\"ten\":10,\"eleven\":11,\"twelve\":12,\"thirteen\":13,\"fouteen\":14,\n",
        "      \"fifteen\":15,\"sixteen\":16,\"seventeen\":17,\"eighteen\":18,\"nineteen\":19,\"twenty\":20,\"thirty\":30,\"forty\":40,\"fifty\":50,\"sixty\":60,\"seventy\":70,\n",
        "      \"eighty\":80,\"ninety\":90,\"zero\":0}\n",
        "  # dictionary of numbers used for conversion\n",
        "  number_2={\"one\":1,\"two\":2,\"three\":3,\"four\":4,\"five\":5,\"six\":6,\"seven\":7,\"eight\":8,\"nine\":9,\"zero\":0}\n",
        "  #dictionary of numbers used for identification of decimals. The format for decimals is point three four two and not point three hundred and forty two.\n",
        "  #Hence numbers following the decimal point should be only from zero to nine\n",
        "  exp={\"million\":1000000,\"thousand\":1000,\"hundred\":100}\n",
        "  #the exponentials we will use which are 100,1000 and 1 million\n",
        "  \n",
        "  text=text+\" . \"\n",
        "  # adding for . at the end of the text for easy manipulation.will be removed when returned\n",
        "  punc=[\"?\",\"!\",\".\",\",\",\";\",\":\",'\"',\"(\",\")\",\"[\",\"]\",\"{\",\"}\"]\n",
        "  text=\"\".join( c if c not in punc else \" \"+c+\" \" for c in text)\n",
        "    # put a space in front of all non alpha numeric so that words like ten? ten/ ten# all are converted to 10? 10/ 10# you can specify what you want to consider as \n",
        "    # valid via special character list input\n",
        " \n",
        "  text=text.split()\n",
        "  num=0\n",
        "  dec=\"\"\n",
        "  fin=0\n",
        "  ret=\"\"\n",
        "  for i in range(len(text)):\n",
        "    '''\n",
        "    when a number is seen and it is not 100,1000 or million,it is added and\n",
        "    when hundred thousand or a million are observed the number stored is multiplied \n",
        "    by value.If the exponential terms are not seen(will happen if the word is less\n",
        "    than 100) then it is added to the number obtained so far.\n",
        "    Validity of the numbers are also checked like discussed\n",
        "    If a decimal number is determined then the numbers afer the decimal are added\n",
        "    one after the other and a validity check is also performed.\n",
        "\n",
        "    '''\n",
        "    if text[i].lower() in number_1.keys() or text[i].lower() in exp.keys() :\n",
        "      if dec==\"\":\n",
        "        if text[i].lower() in number_1.keys():\n",
        "          num=num+number_1[text[i].lower()]\n",
        "        else:\n",
        "          if num==0:\n",
        "            num=exp[text[i].lower()]\n",
        "            if num!=100:\n",
        "            \n",
        "              if fin!=0 and num>=fin:\n",
        "                return(\"Ensure that text has valid numbers\")\n",
        "              else:\n",
        "                fin=fin+num\n",
        "                num=0\n",
        "          else: \n",
        "            if exp[text[i].lower()]==100: \n",
        "                #num=num*exp[text[i].lower()]\n",
        "                #if fin!=0 and num>=fin:\n",
        "                if num>=100:\n",
        "                   return(\"Ensure that text has valid numbers\")\n",
        "                else :\n",
        "                  num=num*100   \n",
        "            else:\n",
        "              num=num*exp[text[i].lower()]\n",
        "              if fin!=0 and num>=fin:\n",
        "                return(\"ENsure valid number\")\n",
        "              else:\n",
        "                fin=fin+num\n",
        "                num=0      \n",
        "      else: \n",
        "        \n",
        "       if text[i].lower() in number_2.keys():\n",
        "         \n",
        "         dec=dec+str(number_2[text[i].lower()])\n",
        "         \n",
        "       else:\n",
        "         \n",
        "         return(\"There is an illegal decimal number ensure that the number is in the format point three five two and not point three hundred point two\")\n",
        "\n",
        "      \n",
        "       \n",
        "      \n",
        "    else:\n",
        "      '''\n",
        "      When the word 'and' is seen if it is sandwhiched between two numbers it is ignored .\n",
        "      handling various cases like when number followed by and and number is a decimal\n",
        "      or not  \n",
        "      '''\n",
        "      if text[i].lower()==\"and\":\n",
        "        if i==0 :\n",
        "          ret=ret+\" \"+text[i]\n",
        "          continue\n",
        "        else:\n",
        "          if text[i-1].lower() in list(number_1.keys())+list(exp.keys()):\n",
        "            \n",
        "            if text[i+1].lower() in list(number_1.keys())+list(exp.keys()):\n",
        "               continue\n",
        "            else:\n",
        "             if num==0 and fin==0:\n",
        "               if dec!=0:\n",
        "                 ret=ret+\" \"+dec\n",
        "                 dec=\"\"\n",
        "                 continue\n",
        "             elif num==0 and fin!=0:\n",
        "               if dec!=\"\":\n",
        "                 ret=ret+\" \"+str(fin)+dec\n",
        "                 fin=0\n",
        "                 dec=\"\"\n",
        "                 continue\n",
        "               else:\n",
        "                 ret=ret+\" \"+str(fin)\n",
        "                 fin=0\n",
        "                 cotinue\n",
        "             elif num!=0:\n",
        "               fin=fin+num          \n",
        "               ret=ret+\" \"+str(fin)+\" \"+text[i]\n",
        "               fin=0\n",
        "               num=0\n",
        "               continue\n",
        "          else:\n",
        "            if text[i] in punc:\n",
        "                ret=ret+text[i]\n",
        "                continue\n",
        "            else:\n",
        "              ret=ret+\" \"+text[i] \n",
        "              continue      \n",
        "      '''\n",
        "      when the word 'point' is sandwiched between two non numeric words,\n",
        "      it is treated as text and a point follwed by numbers is considered\n",
        "      as a decimal \n",
        "      ''' \n",
        "\n",
        "      if text[i].lower()==\"point\":\n",
        "      \n",
        "          if text[i+1].lower() in list(number_1.keys())+list(exp.keys()):\n",
        "            if num==0 and fin==0:\n",
        "               dec=dec+\"0.\"\n",
        "            else:\n",
        "               dec=\".\"\n",
        "          else:\n",
        "            if text[i+1].lower()==\"and\":\n",
        "              ret=ret+\" \"+text[i]\n",
        "              continue\n",
        "            else:  \n",
        "             if num!=0:\n",
        "               fin=fin+num\n",
        "               ret=ret+\" \"+str(fin)+\" \"+text[i]\n",
        "               fin=0\n",
        "               num=0\n",
        "               continue\n",
        "             else:\n",
        "               if fin!=0:\n",
        "                ret=ret+\" \"+str(fin)+\" \"+text[i]\n",
        "                fin=0\n",
        "                continue\n",
        "               else:\n",
        "                if i!=0:\n",
        "                  if text[i-1].lower()==\"zero\":\n",
        "                      ret=ret+\" 0 \"+text[i]\n",
        "                      continue\n",
        "                  else:\n",
        "                    ret=ret+\" \"+text[i]\n",
        "                    continue\n",
        "                else:\n",
        "                  ret=ret+text[i] \n",
        "                  continue       \n",
        "\n",
        "                       \n",
        "\n",
        "        \n",
        "\n",
        "      else:\n",
        "        if text[i] in punc:\n",
        "\n",
        "                ret=ret+text[i]\n",
        "                continue\n",
        "        else:\n",
        "              ret=ret+\" \"+text[i]  \n",
        "              continue  \n",
        "    '''\n",
        "    Once the number gets over ,appending the decimal part to the whole number\n",
        "    if it exists and appending it to the text\n",
        "    '''\n",
        "    if i<len(text)-1:\n",
        "     \n",
        "     if text[i+1].lower() not in list(number_1.keys())+list(exp.keys())+[\"and\"]+[\"point\"]:\n",
        "        \n",
        "        if num!=0:\n",
        "          fin=fin+num\n",
        "          if dec!=\"\":\n",
        "            ret=ret+\" \"+str(fin)+dec\n",
        "            dec=\"\"\n",
        "            num=0\n",
        "            fin=0\n",
        "          else:\n",
        "            ret=ret+\" \"+str(fin)  \n",
        "            fin=0\n",
        "            num=0\n",
        "        else:\n",
        "          if fin!=0:\n",
        "            if dec==\"\":\n",
        "               ret=ret+\" \"+str(fin)\n",
        "               fin=0\n",
        "            else:\n",
        "              ret=ret+\" \"+str(fin)+dec \n",
        "              dec=\"\"  \n",
        "              fin=0\n",
        "          else:\n",
        "            if dec==\"\":\n",
        "              if text[i]==\"zero\": \n",
        "                ret=ret+\" \"+str(0) \n",
        "            else:\n",
        "              ret=ret+\" \"+dec\n",
        "              dec=\"\"      \n",
        "              \n",
        "            \n",
        "         \n",
        "        \n",
        "\n",
        "  return(ret[:len(ret)-1])"
      ],
      "execution_count": 0,
      "outputs": []
    },
    {
      "cell_type": "code",
      "metadata": {
        "id": "KMb5pCGZSoEP",
        "colab_type": "code",
        "colab": {
          "base_uri": "https://localhost:8080/",
          "height": 34
        },
        "outputId": "ad1e3146-499c-4969-c1ae-eef747be7d42"
      },
      "source": [
        "convert_num(\"Does that cost a hundred dollars?\")"
      ],
      "execution_count": 179,
      "outputs": [
        {
          "output_type": "execute_result",
          "data": {
            "text/plain": [
              "' Does that cost a 100 dollars?'"
            ]
          },
          "metadata": {
            "tags": []
          },
          "execution_count": 179
        }
      ]
    },
    {
      "cell_type": "code",
      "metadata": {
        "id": "HsPKAfaLSufm",
        "colab_type": "code",
        "colab": {
          "base_uri": "https://localhost:8080/",
          "height": 34
        },
        "outputId": "1b206985-5ee6-4a04-b79a-2e520e292d4a"
      },
      "source": [
        "convert_num(\"Does that cost a hundred and hundred dollars?\")"
      ],
      "execution_count": 180,
      "outputs": [
        {
          "output_type": "execute_result",
          "data": {
            "text/plain": [
              "'Ensure that text has valid numbers'"
            ]
          },
          "metadata": {
            "tags": []
          },
          "execution_count": 180
        }
      ]
    },
    {
      "cell_type": "code",
      "metadata": {
        "id": "XLeGwcyUSygF",
        "colab_type": "code",
        "colab": {
          "base_uri": "https://localhost:8080/",
          "height": 34
        },
        "outputId": "8ac8c238-090a-4414-a9d1-e7c3d336319f"
      },
      "source": [
        "convert_num(\"Does that cost a hundred and ten dollars?\")"
      ],
      "execution_count": 181,
      "outputs": [
        {
          "output_type": "execute_result",
          "data": {
            "text/plain": [
              "' Does that cost a 110 dollars?'"
            ]
          },
          "metadata": {
            "tags": []
          },
          "execution_count": 181
        }
      ]
    },
    {
      "cell_type": "code",
      "metadata": {
        "id": "HY8YIQwjS6Go",
        "colab_type": "code",
        "colab": {
          "base_uri": "https://localhost:8080/",
          "height": 34
        },
        "outputId": "4e988c5f-47e7-4105-b26e-e220ac3d6aba"
      },
      "source": [
        "convert_num(\"'Does that cost a hundred and ten point thirty five dollars?'\")"
      ],
      "execution_count": 182,
      "outputs": [
        {
          "output_type": "execute_result",
          "data": {
            "text/plain": [
              "'There is an illegal decimal number ensure that the number is in the format point three five two and not point three hundred point two'"
            ]
          },
          "metadata": {
            "tags": []
          },
          "execution_count": 182
        }
      ]
    },
    {
      "cell_type": "code",
      "metadata": {
        "id": "X_VPPX9wTQ56",
        "colab_type": "code",
        "colab": {
          "base_uri": "https://localhost:8080/",
          "height": 34
        },
        "outputId": "a489be09-954d-4d77-b609-055662486785"
      },
      "source": [
        "convert_num(\"Does that cost a hundred and ten point three five dollars?\")"
      ],
      "execution_count": 183,
      "outputs": [
        {
          "output_type": "execute_result",
          "data": {
            "text/plain": [
              "' Does that cost a 110.35 dollars?'"
            ]
          },
          "metadata": {
            "tags": []
          },
          "execution_count": 183
        }
      ]
    },
    {
      "cell_type": "code",
      "metadata": {
        "id": "Djj71NW-TkIE",
        "colab_type": "code",
        "colab": {
          "base_uri": "https://localhost:8080/",
          "height": 34
        },
        "outputId": "db5f2d78-8b01-42d3-dc1c-b3a8e6a9a5b4"
      },
      "source": [
        "convert_num(\"This is  a thousand thousand  .\")"
      ],
      "execution_count": 184,
      "outputs": [
        {
          "output_type": "execute_result",
          "data": {
            "text/plain": [
              "'Ensure that text has valid numbers'"
            ]
          },
          "metadata": {
            "tags": []
          },
          "execution_count": 184
        }
      ]
    },
    {
      "cell_type": "code",
      "metadata": {
        "id": "gibytALFYeqD",
        "colab_type": "code",
        "colab": {
          "base_uri": "https://localhost:8080/",
          "height": 34
        },
        "outputId": "e6af6435-6759-4dad-a3e7-2d600985ba4b"
      },
      "source": [
        "convert_num(\"this is  nine hundred and ninety nine million nine hundred and ninety nine thousand and nine hundred and ninety nine .\")"
      ],
      "execution_count": 185,
      "outputs": [
        {
          "output_type": "execute_result",
          "data": {
            "text/plain": [
              "' this is 999999999.'"
            ]
          },
          "metadata": {
            "tags": []
          },
          "execution_count": 185
        }
      ]
    },
    {
      "cell_type": "code",
      "metadata": {
        "id": "ycObAtY5ZPOc",
        "colab_type": "code",
        "colab": {
          "base_uri": "https://localhost:8080/",
          "height": 34
        },
        "outputId": "1de38d3a-1518-4dc6-b964-6323f5de343a"
      },
      "source": [
        "convert_num(\"this is  hundred  thirty thousand .\")"
      ],
      "execution_count": 186,
      "outputs": [
        {
          "output_type": "execute_result",
          "data": {
            "text/plain": [
              "' this is 130000.'"
            ]
          },
          "metadata": {
            "tags": []
          },
          "execution_count": 186
        }
      ]
    },
    {
      "cell_type": "code",
      "metadata": {
        "id": "pU1nff6vZeat",
        "colab_type": "code",
        "colab": {
          "base_uri": "https://localhost:8080/",
          "height": 34
        },
        "outputId": "53fb92c7-a687-4cde-930c-81a95c76863e"
      },
      "source": [
        "convert_num(\"this is  hundred  thirty thousand point three two zero.\")"
      ],
      "execution_count": 187,
      "outputs": [
        {
          "output_type": "execute_result",
          "data": {
            "text/plain": [
              "' this is 130000.320.'"
            ]
          },
          "metadata": {
            "tags": []
          },
          "execution_count": 187
        }
      ]
    },
    {
      "cell_type": "code",
      "metadata": {
        "id": "QiBhR4J9ZjYj",
        "colab_type": "code",
        "colab": {
          "base_uri": "https://localhost:8080/",
          "height": 34
        },
        "outputId": "c4522769-8eff-4f5a-88e9-19c6441faa33"
      },
      "source": [
        "convert_num(\"this is  hundred  thirty thousand point three two zero seven.\")"
      ],
      "execution_count": 188,
      "outputs": [
        {
          "output_type": "execute_result",
          "data": {
            "text/plain": [
              "' this is 130000.3207.'"
            ]
          },
          "metadata": {
            "tags": []
          },
          "execution_count": 188
        }
      ]
    },
    {
      "cell_type": "code",
      "metadata": {
        "id": "Z6pGc4l6Zk3R",
        "colab_type": "code",
        "colab": {
          "base_uri": "https://localhost:8080/",
          "height": 34
        },
        "outputId": "b16b4c40-da04-441f-bcee-589c630643a8"
      },
      "source": [
        "convert_num(\"What is your point\")"
      ],
      "execution_count": 189,
      "outputs": [
        {
          "output_type": "execute_result",
          "data": {
            "text/plain": [
              "' What is your point'"
            ]
          },
          "metadata": {
            "tags": []
          },
          "execution_count": 189
        }
      ]
    },
    {
      "cell_type": "code",
      "metadata": {
        "id": "hvGHckRfaQ-A",
        "colab_type": "code",
        "colab": {
          "base_uri": "https://localhost:8080/",
          "height": 34
        },
        "outputId": "afd6c2fb-4413-4c34-dab0-1162b04614f1"
      },
      "source": [
        "convert_num(\"What is your zero point\")"
      ],
      "execution_count": 190,
      "outputs": [
        {
          "output_type": "execute_result",
          "data": {
            "text/plain": [
              "' What is your 0 point'"
            ]
          },
          "metadata": {
            "tags": []
          },
          "execution_count": 190
        }
      ]
    },
    {
      "cell_type": "code",
      "metadata": {
        "id": "-YlRDOSPZwLA",
        "colab_type": "code",
        "colab": {
          "base_uri": "https://localhost:8080/",
          "height": 34
        },
        "outputId": "8a66933f-7c2e-49ef-a686-a6a08fd2f8b9"
      },
      "source": [
        "convert_num(\"point zero\")"
      ],
      "execution_count": 191,
      "outputs": [
        {
          "output_type": "execute_result",
          "data": {
            "text/plain": [
              "' 0.0'"
            ]
          },
          "metadata": {
            "tags": []
          },
          "execution_count": 191
        }
      ]
    },
    {
      "cell_type": "code",
      "metadata": {
        "id": "3K7-GGoxa_w4",
        "colab_type": "code",
        "colab": {
          "base_uri": "https://localhost:8080/",
          "height": 34
        },
        "outputId": "ddacb307-c068-4918-8af7-a7b3d0440621"
      },
      "source": [
        "convert_num(\"What is your and point\")"
      ],
      "execution_count": 192,
      "outputs": [
        {
          "output_type": "execute_result",
          "data": {
            "text/plain": [
              "' What is your and point'"
            ]
          },
          "metadata": {
            "tags": []
          },
          "execution_count": 192
        }
      ]
    },
    {
      "cell_type": "code",
      "metadata": {
        "id": "0DH3TVs2bOX2",
        "colab_type": "code",
        "colab": {
          "base_uri": "https://localhost:8080/",
          "height": 34
        },
        "outputId": "9041aa71-bed0-4061-a496-9d8f8af74676"
      },
      "source": [
        "convert_num(\"What is your point and for\")"
      ],
      "execution_count": 193,
      "outputs": [
        {
          "output_type": "execute_result",
          "data": {
            "text/plain": [
              "' What is your point and for'"
            ]
          },
          "metadata": {
            "tags": []
          },
          "execution_count": 193
        }
      ]
    },
    {
      "cell_type": "code",
      "metadata": {
        "id": "npNdl9CRbUXc",
        "colab_type": "code",
        "colab": {
          "base_uri": "https://localhost:8080/",
          "height": 34
        },
        "outputId": "7dee4bd2-d2c9-469a-a7b2-7719f76299c6"
      },
      "source": [
        "convert_num(\"What is your point and three\")"
      ],
      "execution_count": 194,
      "outputs": [
        {
          "output_type": "execute_result",
          "data": {
            "text/plain": [
              "' What is your point and 3'"
            ]
          },
          "metadata": {
            "tags": []
          },
          "execution_count": 194
        }
      ]
    },
    {
      "cell_type": "code",
      "metadata": {
        "id": "0WdGbNHsffae",
        "colab_type": "code",
        "colab": {
          "base_uri": "https://localhost:8080/",
          "height": 34
        },
        "outputId": "602bcee9-fad0-4270-99b1-18123e4da568"
      },
      "source": [
        "convert_num(\"What is your point and thirty three\")"
      ],
      "execution_count": 195,
      "outputs": [
        {
          "output_type": "execute_result",
          "data": {
            "text/plain": [
              "' What is your point and 33'"
            ]
          },
          "metadata": {
            "tags": []
          },
          "execution_count": 195
        }
      ]
    },
    {
      "cell_type": "code",
      "metadata": {
        "id": "9NCbD6dPfxAx",
        "colab_type": "code",
        "colab": {
          "base_uri": "https://localhost:8080/",
          "height": 34
        },
        "outputId": "bd351956-2e7c-4245-81b1-07bf14e1fb48"
      },
      "source": [
        "convert_num(\"A car accelerates uniformly over a time of five point two one seconds for a distance of one hundred and ten meters.\")"
      ],
      "execution_count": 196,
      "outputs": [
        {
          "output_type": "execute_result",
          "data": {
            "text/plain": [
              "' A car accelerates uniformly over a time of 5.21 seconds for a distance of 110 meters.'"
            ]
          },
          "metadata": {
            "tags": []
          },
          "execution_count": 196
        }
      ]
    },
    {
      "cell_type": "code",
      "metadata": {
        "id": "gnxxndAAf5VB",
        "colab_type": "code",
        "colab": {
          "base_uri": "https://localhost:8080/",
          "height": 34
        },
        "outputId": "d8e124f4-cbcd-480a-d506-9d377ec5aa1f"
      },
      "source": [
        "convert_num(\"Point six\")"
      ],
      "execution_count": 197,
      "outputs": [
        {
          "output_type": "execute_result",
          "data": {
            "text/plain": [
              "' 0.6'"
            ]
          },
          "metadata": {
            "tags": []
          },
          "execution_count": 197
        }
      ]
    },
    {
      "cell_type": "code",
      "metadata": {
        "id": "uE6FsJmNh6k8",
        "colab_type": "code",
        "colab": {
          "base_uri": "https://localhost:8080/",
          "height": 34
        },
        "outputId": "c63e8dbc-f182-47df-9f5a-f0a5fb35feef"
      },
      "source": [
        "convert_num(\"three hundred and Point six and two\")"
      ],
      "execution_count": 198,
      "outputs": [
        {
          "output_type": "execute_result",
          "data": {
            "text/plain": [
              "' 300 and 0.62'"
            ]
          },
          "metadata": {
            "tags": []
          },
          "execution_count": 198
        }
      ]
    }
  ]
}